{
 "cells": [
  {
   "cell_type": "code",
   "execution_count": 152,
   "metadata": {},
   "outputs": [
    {
     "data": {
      "text/plain": [
       "Index([u'timestamp', u'net_received', u'net_transferred', u'Year', u'Mon',\n",
       "       u'Day', u'Hour', u'Weekday'],\n",
       "      dtype='object')"
      ]
     },
     "execution_count": 152,
     "metadata": {},
     "output_type": "execute_result"
    },
    {
     "data": {
      "text/plain": [
       "<matplotlib.axes._subplots.AxesSubplot at 0x7f2ab3cf4950>"
      ]
     },
     "execution_count": 152,
     "metadata": {},
     "output_type": "execute_result"
    },
    {
     "data": {
      "image/png": "[encoded data removed]",
      "text/plain": [
       "<matplotlib.figure.Figure at 0x7f2ab0536490>"
      ]
     },
     "metadata": {},
     "output_type": "display_data"
    }
   ],
   "source": [
    "from IPython.core.interactiveshell import InteractiveShell\n",
    "InteractiveShell.ast_node_interactivity = \"all\"\n",
    "%matplotlib inline\n",
    "\n",
    "import pandas as pd\n",
    "import numpy as np\n",
    "dfraw = pd.read_csv(\"/mactmp/sample-data/DSX_Play/rawall.csv\")\n",
    "#dfraw.describe()\n",
    "#dfraw.columns\n",
    "#dfraw[\"ip\"].drop_duplicates()\n",
    "#dfraw.groupby([\"ip\", \"Mon\"]).mean()\n",
    "#dfraw[dfraw[\"ip\"] == \"169.54.213.198\"].count()\n",
    "#dfraw[dfraw[\"ip\"] == \"169.55.245.30\"].count()\n",
    "#dfraw[dfraw[\"ip\"] == \"169.54.213.198\"].groupby([\"ip\", \"Mon\"]).mean()[\"net_transferred\"]\n",
    "#dfraw[dfraw[\"ip\"] == \"169.55.245.30\"].groupby([\"ip\", \"Mon\"]).mean()[\"net_transferred\"]\n",
    "#df169 = pd.concat([dfraw[dfraw[\"ip\"] == \"169.55.245.30\"], dfraw[dfraw[\"ip\"] == \"169.54.213.198\"]])\n",
    "\n",
    "#df169[df169[\"ip\"] == \"169.55.245.30\"][\"net_received\"]\n",
    "#df169.head()\n",
    "df169c = df169.groupby(\"Date\").sum()\n",
    "df169c.columns\n",
    "#df169c.plot(y=\"net_received\", figsize=(15,2))\n",
    "#df169c.plot(y=\"net_transferred\", figsize=(15,2))\n",
    "#df169c.index.map(lambda x: x.strip())\n",
    "#df169c[\"2017-04-04\":\"2017-04-05\"]\n",
    "#df169c[df169c.index == \"2017-04-04 \"]\n",
    "df169c.drop(\"2017-03-31 \", axis=0, inplace=True)\n",
    "df169c.drop(\"2017-04-04 \", axis=0, inplace=True)\n",
    "df169c.drop(\"2017-05-27 \", axis=0, inplace=True)\n",
    "df169c.drop(\"2017-05-28 \", axis=0, inplace=True)\n",
    "df169c.drop(\"2017-05-29 \", axis=0, inplace=True)\n",
    "df169c.plot(y=\"net_transferred\", figsize=(15,2))\n"
   ]
  },
  {
   "cell_type": "code",
   "execution_count": 155,
   "metadata": {},
   "outputs": [],
   "source": [
    "from sklearn.linear_model import LinearRegression\n"
   ]
  },
  {
   "cell_type": "code",
   "execution_count": 169,
   "metadata": {},
   "outputs": [
    {
     "data": {
      "text/plain": [
       "<matplotlib.collections.PathCollection at 0x7f2a9a8ad550>"
      ]
     },
     "execution_count": 169,
     "metadata": {},
     "output_type": "execute_result"
    },
    {
     "data": {
      "image/png": "[encoded data removed]",
      "text/plain": [
       "<matplotlib.figure.Figure at 0x7f2a9ab4f810>"
      ]
     },
     "metadata": {},
     "output_type": "display_data"
    }
   ],
   "source": [
    "import random\n",
    "import matplotlib.pyplot as plot\n",
    "# let's create a linear function with some error called f\n",
    "def f(x):\n",
    "    res = x* 25 + 3\n",
    "    error = res * random.uniform(-0.1, 0.1) # you can play with the error to see how it affects the result\n",
    "    return res + error\n",
    "\n",
    "x1, y1 = [], []\n",
    "\n",
    "# now using f we are going to create 300 values.\n",
    "for i in range(0, 30):\n",
    "    x = random.uniform(1, 10)\n",
    "    y = f(x)\n",
    "    #values.append((x, y))\n",
    "    x1.append(x)\n",
    "    y1.append(y)\n",
    "\n",
    "plot.scatter(x1, y1)\n",
    "\n",
    "from sklearn import linear_model\n",
    "regr = linear_model.LinearRegression()\n",
    "\n",
    "max_x = max(x1)\n",
    "min_x = min(x1)\n"
   ]
  },
  {
   "cell_type": "code",
   "execution_count": 175,
   "metadata": {},
   "outputs": [
    {
     "name": "stdout",
     "output_type": "stream",
     "text": [
      "(6.7566455546620405, 8.880741576179489, 2.108378114529409, 3.3730439161190695, 7.256440724291819, 8.510218674172386, 2.0189652856160825, 6.703504359653143, 3.1368293020385716, 2.672274221730796, 9.023929598469897, 3.845257287782794, 5.840874851359103, 8.25454458831194, 1.2223308986542807, 3.7255036681138622, 3.0627616331025487, 1.6738246642255497, 3.3899167695678387, 3.868525686402952, 3.2877647912244488, 8.708459710182353, 6.119099408417982, 6.098509298863733, 1.7987987982754823, 7.077403512696406, 8.871021210566298, 3.7104869478869267, 5.825810565032968, 2.717460333729204)\n",
      "(163.42350889542882, 210.79869185287478, 57.62256735556168, 95.02626261002278, 167.84087928706145, 211.8922271393248, 51.207686587696166, 163.1945816368479, 80.6925044980348, 68.50357265249129, 222.88061068735024, 103.65481894133981, 144.07319317302716, 205.72836869951118, 30.232678259865867, 100.71399719410186, 71.92426749582975, 46.37558952459263, 80.56223238746506, 100.01086342829022, 87.62295366699473, 240.2488819010648, 167.68032341524992, 146.04631799842858, 44.62662245342425, 166.9501282220356, 206.4633764366581, 93.28818821448067, 140.98825948925003, 73.6754099594557)\n"
     ]
    },
    {
     "data": {
      "text/plain": [
       "LinearRegression(copy_X=True, fit_intercept=True, n_jobs=1, normalize=False)"
      ]
     },
     "execution_count": 175,
     "metadata": {},
     "output_type": "execute_result"
    },
    {
     "name": "stdout",
     "output_type": "stream",
     "text": [
      " y = 22.9990880939 * x + 8.7657410261\n"
     ]
    },
    {
     "data": {
      "text/plain": [
       "<matplotlib.collections.PathCollection at 0x7f2a9a833090>"
      ]
     },
     "execution_count": 175,
     "metadata": {},
     "output_type": "execute_result"
    },
    {
     "data": {
      "text/plain": [
       "[<matplotlib.lines.Line2D at 0x7f2a9ad7f190>]"
      ]
     },
     "execution_count": 175,
     "metadata": {},
     "output_type": "execute_result"
    },
    {
     "data": {
      "text/plain": [
       "<matplotlib.text.Text at 0x7f2a9a7f4650>"
      ]
     },
     "execution_count": 175,
     "metadata": {},
     "output_type": "execute_result"
    },
    {
     "data": {
      "text/plain": [
       "<matplotlib.text.Text at 0x7f2a9a7b5450>"
      ]
     },
     "execution_count": 175,
     "metadata": {},
     "output_type": "execute_result"
    },
    {
     "data": {
      "text/plain": [
       "<matplotlib.text.Text at 0x7f2a9a7c4a50>"
      ]
     },
     "execution_count": 175,
     "metadata": {},
     "output_type": "execute_result"
    },
    {
     "data": {
      "image/png": "[encoded data removed]",
      "text/plain": [
       "<matplotlib.figure.Figure at 0x7f2ab0e895d0>"
      ]
     },
     "metadata": {},
     "output_type": "display_data"
    }
   ],
   "source": [
    "import random\n",
    "# let's create a linear function with some error called f\n",
    "def f(x):\n",
    "    res = x* 25 + 3\n",
    "    error = res * random.uniform(-0.1, 0.1) # you can play with the error to see how it affects the result\n",
    "    return res + error\n",
    "\n",
    "values = []\n",
    "# now using f we are going to create 300 values.\n",
    "for i in range(0, 30):\n",
    "    x = random.uniform(1, 10)\n",
    "    y = f(x)\n",
    "    values.append((x, y))\n",
    "    \n",
    "from sklearn import linear_model\n",
    "regr = linear_model.LinearRegression()\n",
    "x, y = zip(*values)\n",
    "print x\n",
    "print y\n",
    "max_x = max(x)\n",
    "min_x = min(x)\n",
    "# split the values in train and data.\n",
    "train_data_X = map(lambda x: [x], list(x[:-20]))\n",
    "train_data_Y = list(y[:-20])\n",
    "test_data_X = map(lambda x: [x], list(x[-20:]))\n",
    "test_data_Y = list(y[-20:])\n",
    "# feed the linear regression with the train data to obtain a model.\n",
    "regr.fit(train_data_X, train_data_Y)\n",
    "# check that the coeffients are the expected ones.\n",
    "m = regr.coef_[0]\n",
    "b = regr.intercept_\n",
    "print(' y = {0} * x + {1}'.format(m, b))\n",
    "\n",
    "\n",
    "import matplotlib.pyplot as plt\n",
    "\n",
    "# now we are going to plot the points and the model obtained\n",
    "plt.scatter(x, y, color='blue')  # you can use test_data_X and test_data_Y instead.\n",
    "plt.plot([min_x, max_x], [b, m*max_x + b], 'r')\n",
    "plt.title('Fitted linear regression', fontsize=16)\n",
    "plt.xlabel('x', fontsize=13)\n",
    "plt.ylabel('y', fontsize=13)"
   ]
  },
  {
   "cell_type": "code",
   "execution_count": 176,
   "metadata": {
    "collapsed": true
   },
   "outputs": [],
   "source": [
    "regr.fit?"
   ]
  },
  {
   "cell_type": "code",
   "execution_count": null,
   "metadata": {
    "collapsed": true
   },
   "outputs": [],
   "source": []
  }
 ],
 "metadata": {
  "kernelspec": {
   "display_name": "Python 2",
   "language": "python",
   "name": "python2"
  },
  "language_info": {
   "codemirror_mode": {
    "name": "ipython",
    "version": 2
   },
   "file_extension": ".py",
   "mimetype": "text/x-python",
   "name": "python",
   "nbconvert_exporter": "python",
   "pygments_lexer": "ipython2",
   "version": "2.7.13"
  }
 },
 "nbformat": 4,
 "nbformat_minor": 2
}
